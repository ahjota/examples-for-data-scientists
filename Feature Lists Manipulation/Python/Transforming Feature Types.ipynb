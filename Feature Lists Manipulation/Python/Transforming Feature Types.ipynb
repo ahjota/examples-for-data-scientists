{
 "cells": [
  {
   "cell_type": "markdown",
   "metadata": {},
   "source": [
    "## Transforming Feature Types\n",
    "\n",
    "**Author**: Peter Simon\n",
    "\n",
    "**Label**: Modeling Options\n",
    "\n",
    "### Scope\n",
    "\n",
    "The scope of this notebook is to provide instructions on how to transform feature types within DataRobot.\n",
    "\n",
    "### Background\n",
    "\n",
    "This is the procedure we are going to follow:\n",
    "\n",
    "* Calculate the feature importance for each trained model\n",
    "* Get the feature ranking for each trained model\n",
    "* Get the ranking distribution for each feature across models\n",
    "* Sort by mean rank and visualize\n",
    "\n",
    "### Requirements\n",
    "\n",
    "- Python version 3.7.3\n",
    "-  DataRobot API version 2.19.0. \n",
    "Small adjustments might be needed depending on the Python version and DataRobot API version you are using.\n",
    "\n",
    "Full documentation of the Python package can be found here: https://datarobot-public-api-client.readthedocs-hosted.com\n",
    "\n",
    "It is assumed you already have a DataRobot <code>Project</code> object."
   ]
  },
  {
   "cell_type": "markdown",
   "metadata": {},
   "source": [
    "#### Set dictionary\n",
    "Let's set up a dict with the variables we want to change. NOTE: if you want to do more than one type transformation on a single variable, you will need to do this via a dataframe instead. Variable types must be one of the following: {'categorical', 'categoricalInt', 'numeric', 'text'}"
   ]
  },
  {
   "cell_type": "code",
   "execution_count": 2,
   "metadata": {},
   "outputs": [],
   "source": [
    "import datarobot as dr\n",
    "VAR_TYPES = {'region'            : 'text',\n",
    "             'reviews_seasonal'  : 'categoricalInt',\n",
    "             'min_score'         : 'categorical',\n",
    "             'max_score'         : 'an example of an illegal type',\n",
    "             'reviews_department': 'text',\n",
    "             'locality'          : 'text',\n",
    "             }\n",
    "\n",
    "# build a dict of the new feature names - we'll need it later\n",
    "new_features = {}"
   ]
  },
  {
   "cell_type": "markdown",
   "metadata": {},
   "source": [
    "#### Initiate transformation"
   ]
  },
  {
   "cell_type": "code",
   "execution_count": null,
   "metadata": {},
   "outputs": [],
   "source": [
    "print('Starting variable type transformations.')\n",
    "\n",
    "# now we'll run through the dict and do the transforms one-by-one\n",
    "for feat, transf in VAR_TYPES.items():\n",
    "    new_name = feat + ' (' + transf + ')'\n",
    "    try:\n",
    "        new_features[feat] = project.create_type_transform_feature(name=new_name,\n",
    "                                                                   parent_name=feat,\n",
    "                                                                   variable_type=transf).name\n",
    "        print('Transformed', feat, 'to', new_name, 'successfully.')\n",
    "    except dr.errors.ClientError as e:\n",
    "        assert e.status_code == 422\n",
    "        print(feat, 'transformation to', transf, 'failed.')"
   ]
  },
  {
   "cell_type": "markdown",
   "metadata": {},
   "source": [
    "#### Create new feature list"
   ]
  },
  {
   "cell_type": "code",
   "execution_count": null,
   "metadata": {},
   "outputs": [],
   "source": [
    "# let's make some feature lists which substitute the re-typed features for their parents\n",
    "featurelists = project.get_featurelists()\n",
    "new_featurelists = {}\n",
    "\n",
    "print('Adding feature lists.')\n",
    "for fl in featurelists:\n",
    "    new_featlist_name = fl.name + ' (retyped)'\n",
    "    new_featurelists[new_featlist_name] = project.create_featurelist(\n",
    "        name=new_featlist_name,\n",
    "        features=[new_features[f] if f in new_features.keys() else f for f in fl.features]\n",
    "    ).id"
   ]
  },
  {
   "cell_type": "markdown",
   "metadata": {},
   "source": [
    "#### Run autopilot"
   ]
  },
  {
   "cell_type": "code",
   "execution_count": null,
   "metadata": {},
   "outputs": [],
   "source": [
    "# now run autopilot on the retyped Informative Features list\n",
    "print('Starting autopilot.')\n",
    "project.set_target(target=TARGET,\n",
    "                   worker_count=-1,  # set to run with max. workers permitted\n",
    "                   featurelist_id=new_featurelists['Informative Features (retyped)'],\n",
    "                   )\n",
    "\n",
    "# and invoke the browser, to carry on there\n",
    "project.open_leaderboard_browser()"
   ]
  }
 ],
 "metadata": {
  "kernelspec": {
   "display_name": "Python 3",
   "language": "python",
   "name": "python3"
  },
  "language_info": {
   "codemirror_mode": {
    "name": "ipython",
    "version": 3
   },
   "file_extension": ".py",
   "mimetype": "text/x-python",
   "name": "python",
   "nbconvert_exporter": "python",
   "pygments_lexer": "ipython3",
   "version": "3.7.3"
  }
 },
 "nbformat": 4,
 "nbformat_minor": 2
}
