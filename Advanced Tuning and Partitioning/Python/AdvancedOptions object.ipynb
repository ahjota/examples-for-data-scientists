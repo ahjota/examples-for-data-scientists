{
 "cells": [
  {
   "cell_type": "markdown",
   "metadata": {},
   "source": [
    "### Using the AdvancedOptions object\n",
    "**Author:** Thodoris Petropoulos\n",
    "\n",
    "**Label:** Modeling Options\n",
    "\n",
    "Scope\n",
    "The scope of this notebook is to provide instructions on how to initiate a DataRobot project taking advantage of the `AdvancedOptions` object. The object has multiple options so refer to the official API documentation for a full overview.\n",
    "\n",
    "DataRobot API version >= 2.22.0. \n",
    "\n",
    "Small adjustments might be needed depending on the Python version and DataRobot API version you are using.\n",
    "Full documentation of the Python package can be found here: https://datarobot-public-api-client.readthedocs-hosted.com"
   ]
  },
  {
   "cell_type": "code",
   "execution_count": 1,
   "metadata": {},
   "outputs": [
    {
     "data": {
      "text/plain": [
       "<datarobot.rest.RESTClientObject at 0x7f94d9075e10>"
      ]
     },
     "execution_count": 1,
     "metadata": {},
     "output_type": "execute_result"
    }
   ],
   "source": [
    "#Import datarobot library (make sure >=2.22.0)\n",
    "import datarobot as dr\n",
    "import pandas as pd\n",
    "\n",
    "#Connect to DataRobot\n",
    "dr.Client(token='YOUR_API_TOKEN',\n",
    "          endpoint = 'YOUR_API_ENDPOINT')"
   ]
  },
  {
   "cell_type": "code",
   "execution_count": 2,
   "metadata": {},
   "outputs": [],
   "source": [
    "#Create an advanced options object\n",
    "advanced_options = dr.AdvancedOptions(accuracy_optimized_mb=True,\n",
    "                                      consider_blenders_in_recommendation=True)"
   ]
  },
  {
   "cell_type": "code",
   "execution_count": 3,
   "metadata": {},
   "outputs": [],
   "source": [
    "#Load data\n",
    "dataset = pd.read_excel('readmissions.xlsx')"
   ]
  },
  {
   "cell_type": "code",
   "execution_count": null,
   "metadata": {},
   "outputs": [
    {
     "name": "stdout",
     "output_type": "stream",
     "text": [
      "In progress: 2, queued: 11 (waited: 0s)\n",
      "In progress: 2, queued: 11 (waited: 1s)\n",
      "In progress: 2, queued: 11 (waited: 2s)\n",
      "In progress: 2, queued: 11 (waited: 4s)\n",
      "In progress: 2, queued: 11 (waited: 6s)\n",
      "In progress: 2, queued: 11 (waited: 8s)\n",
      "In progress: 2, queued: 11 (waited: 13s)\n",
      "In progress: 2, queued: 11 (waited: 20s)\n",
      "In progress: 2, queued: 11 (waited: 34s)\n",
      "In progress: 1, queued: 11 (waited: 55s)\n",
      "In progress: 2, queued: 10 (waited: 76s)\n",
      "In progress: 2, queued: 9 (waited: 97s)\n",
      "In progress: 2, queued: 8 (waited: 118s)\n",
      "In progress: 2, queued: 8 (waited: 139s)\n",
      "In progress: 2, queued: 8 (waited: 160s)\n",
      "In progress: 2, queued: 6 (waited: 181s)\n"
     ]
    }
   ],
   "source": [
    "#Create project\n",
    "project = dr.Project.create(project_name='MyBinaryClassificationProject',\n",
    "                        sourcedata= dataset)\n",
    "\n",
    "#Set target and pass on the AdvancedOptions object\n",
    "project.set_target('readmitted', advanced_options=advanced_options)\n",
    "\n",
    "\n",
    "project.wait_for_autopilot() #Wait for autopilot to complete"
   ]
  }
 ],
 "metadata": {
  "kernelspec": {
   "display_name": "Python 3",
   "language": "python",
   "name": "python3"
  },
  "language_info": {
   "codemirror_mode": {
    "name": "ipython",
    "version": 3
   },
   "file_extension": ".py",
   "mimetype": "text/x-python",
   "name": "python",
   "nbconvert_exporter": "python",
   "pygments_lexer": "ipython3",
   "version": "3.7.0"
  }
 },
 "nbformat": 4,
 "nbformat_minor": 4
}
