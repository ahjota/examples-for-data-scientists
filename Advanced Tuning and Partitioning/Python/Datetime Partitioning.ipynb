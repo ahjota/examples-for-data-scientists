{
 "cells": [
  {
   "cell_type": "markdown",
   "metadata": {},
   "source": [
    "## Datetime Partitioning\n",
    "\n",
    "**Author**: Thodoris Petropoulos\n",
    "\n",
    "**Label**: Modeling Options\n",
    "\n",
    "### Scope\n",
    "\n",
    "The scope of this notebook is to provide instructions on how to do datetime partitioning using the Python API.\n",
    "\n",
    "### Background\n",
    "\n",
    "When dividing your data for model training and validation, DataRobot will randomly choose a set of rows from your dataset to assign amongst different cross validation folds. This will verify that you have not overfit your model to the training set and that the model can perform well on new data. However when your data has an intrinsic time based component, then you have to be even more careful about target leakage.  DataRobot now posseses datetime partitioning which will be diligent within model training & validation to guard against this, but you should always use your domain exerptise to evaluate your features prior to modeling.\n",
    "\n",
    "Let’s look at how we would frame a problem with a time component within DataRobot. This project basically simulated what you would get if you tried \"Out of Time Validation\" within DataRobot interface which is **not the same as Time Series projects**, even though the way we define backtests is very similar.\n",
    "\n",
    "### Requirements\n",
    "\n",
    "- Python version 3.7.3\n",
    "-  DataRobot API version 2.20.0. \n",
    "Small adjustments might be needed depending on the Python version and DataRobot API version you are using.\n",
    "\n",
    "Full documentation of the Python package can be found here: https://datarobot-public-api-client.readthedocs-hosted.com\n",
    "\n",
    "It is assumed you already have a DataRobot <code>Project</code> object and a DataRobot <code>Model </code> object."
   ]
  },
  {
   "cell_type": "markdown",
   "metadata": {},
   "source": [
    "#### Import Libraries"
   ]
  },
  {
   "cell_type": "code",
   "execution_count": null,
   "metadata": {},
   "outputs": [],
   "source": [
    "import datarobot as dr"
   ]
  },
  {
   "cell_type": "markdown",
   "metadata": {},
   "source": [
    "#### Running a DataRobot Project with a datetime partition\n",
    "The durations need to be specified in string using the format of the <code>dr.helpers.partitioning_methods.construct_duration_string()</code> method."
   ]
  },
  {
   "cell_type": "code",
   "execution_count": null,
   "metadata": {},
   "outputs": [],
   "source": [
    "spec = dr.DatetimePartitioningSpecification(datetime_partition_column = 'Date',\n",
    "                                            holdout_start_date=datetime(2017,1,2),\n",
    "                                            holdout_duration='P1Y0M0DT0H0M0S',\n",
    "                                            number_of_backtests = 2,\n",
    "                                            use_time_series = False)"
   ]
  },
  {
   "cell_type": "markdown",
   "metadata": {},
   "source": [
    "We took advantage of DataRobot’s automated partition date selection after we specified the number of backtests to use. DataRobot allows further control, where we can further specify the validation start date as well as duration. Let’s look at an example below."
   ]
  },
  {
   "cell_type": "markdown",
   "metadata": {},
   "source": [
    "#### Create Backtest Specifications\n",
    "The below method would work for both Time Series and Out of Time Validation projects. Currently, we have specified that <code>use_time_series = False</code> in the <code>dr.DatetimePartitioningSpecification()</code> method so this would be initiated as an OTV project."
   ]
  },
  {
   "cell_type": "code",
   "execution_count": null,
   "metadata": {},
   "outputs": [],
   "source": [
    "# Dates are not project specific but rather example dates\n",
    "spec.backtests=[dr.BacktestSpecification(0,gap_duration = 'P0Y0M0DT0H0M0S',\n",
    "                                         validation_start_date = datetime(2016,1,2), \n",
    "                                         validation_duration = 'P1Y0M0DT0H0M0S'),\n",
    "\n",
    "\n",
    "                dr.BacktestSpecification(1,gap_duration = 'P0Y0M0DT0H0M0S',\n",
    "                                         validation_start_date = datetime(2015,1,2), \n",
    "                                         validation_duration = 'P1Y0M0DT0H0M0S')]\n",
    "\n",
    "#To start the project\n",
    "project = dr.Project.create(sourcedata = df, project_name = 'Project Name')\n",
    "project.set_target('target_column',partitioning_method = spec)"
   ]
  },
  {
   "cell_type": "markdown",
   "metadata": {},
   "source": [
    "The above methods will change the backtest specification for the first and second backtests."
   ]
  }
 ],
 "metadata": {
  "kernelspec": {
   "display_name": "Python 3",
   "language": "python",
   "name": "python3"
  },
  "language_info": {
   "codemirror_mode": {
    "name": "ipython",
    "version": 3
   },
   "file_extension": ".py",
   "mimetype": "text/x-python",
   "name": "python",
   "nbconvert_exporter": "python",
   "pygments_lexer": "ipython3",
   "version": "3.7.3"
  }
 },
 "nbformat": 4,
 "nbformat_minor": 2
}
