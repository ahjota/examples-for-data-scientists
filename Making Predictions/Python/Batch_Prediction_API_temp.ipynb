{
 "cells": [
  {
   "cell_type": "markdown",
   "metadata": {},
   "source": [
    "### Connect to DataRobot\n",
    "\n",
    "Search \"Batch Prediction API\" from inside the platform `?` --> API Documentation for the documentation I used to create this."
   ]
  },
  {
   "cell_type": "code",
   "execution_count": 1,
   "metadata": {},
   "outputs": [
    {
     "data": {
      "text/plain": [
       "<datarobot.rest.RESTClientObject at 0x7fbaf6302d90>"
      ]
     },
     "execution_count": 1,
     "metadata": {},
     "output_type": "execute_result"
    }
   ],
   "source": [
    "import datarobot as dr\n",
    "import trafaret as t\n",
    "\n",
    "dr.BatchPredictionJob._s3_settings = dr.BatchPredictionJob._s3_settings.merge(t.Dict({t.Key(\"format\", optional=True): t.String}))\n",
    "dr.Client(token='YOUR_TOKEN',\n",
    "          endpoint ='YOUR_ENDPOINT/api/v2')"
   ]
  },
  {
   "cell_type": "code",
   "execution_count": 2,
   "metadata": {},
   "outputs": [
    {
     "data": {
      "text/plain": [
       "[Credential('6061d4d8048118670a4ad84e', 'DR', 'basic'),\n",
       " Credential('606466b93bc5818212c80511', 'Snowflake_Cred', 'basic'),\n",
       " Credential('60646700dae01694008689ef', 'DATAROBOT', 'basic'),\n",
       " Credential('606c17df4f93ef5eb51e9af4', 'github-application-oauth', 'oauth'),\n",
       " Credential('607efadbad9b93738240e3cf', 'TheoPetropoulos', 's3'),\n",
       " Credential('60992bdf3d26daaa912d366d', 'DATAROBOT_NEW', 'basic')]"
      ]
     },
     "execution_count": 2,
     "metadata": {},
     "output_type": "execute_result"
    }
   ],
   "source": [
    "deployment_id = 'YOUR_DEPLOYMENT ID'\n",
    "\n",
    "#Grab the ID that corresponds to `S3` or `AWS` and put it in \n",
    "#`drBatchPredictionJob.score` after credential_id key\n",
    "dr.Credential.list()"
   ]
  },
  {
   "cell_type": "markdown",
   "metadata": {},
   "source": [
    "### Below Code Scores Data\n",
    "\n",
    "You should see the output in `CSV format` inside your S3 bucket."
   ]
  },
  {
   "cell_type": "code",
   "execution_count": 4,
   "metadata": {},
   "outputs": [
    {
     "data": {
      "text/plain": [
       "BatchPredictionJob(batchPredictions, '614d91271af83207b8eda4ee', status=INITIALIZING)"
      ]
     },
     "execution_count": 4,
     "metadata": {},
     "output_type": "execute_result"
    }
   ],
   "source": [
    "dr.BatchPredictionJob.score(\n",
    "    deployment_id,\n",
    "    intake_settings={\n",
    "        'type': 's3',\n",
    "        'url': 's3://theos-test-bucket/lending_club_scoring.parquet',\n",
    "        'credential_id': '607efadbad9b93738240e3cf',\n",
    "        \"format\": 'parquet'\n",
    "    },\n",
    "    output_settings={\n",
    "        'type': 's3',\n",
    "        'url': 's3://theos-test-bucket/lending_club_scored2.csv',\n",
    "        'credential_id': '607efadbad9b93738240e3cf'\n",
    "    },\n",
    ")"
   ]
  },
  {
   "cell_type": "markdown",
   "metadata": {},
   "source": [
    "### JDBC (Redshift) - In case you want it."
   ]
  },
  {
   "cell_type": "code",
   "execution_count": null,
   "metadata": {},
   "outputs": [],
   "source": [
    "#JDBC intake\n",
    "#This requires you to create a DataStore and Credential for your database:\n",
    "\n",
    "# get to make sure it's exists\n",
    "data_store = dr.DataStore.get(datastore_id)\n",
    "cred = dr.Credential.get(credential_id)\n",
    "\n",
    "intake_settings = {\n",
    "    'type': 'jdbc',\n",
    "    'table': 'table_name',\n",
    "    'schema': 'public',\n",
    "    'dataStoreId': data_store.id,\n",
    "    'credentialId': cred.credential_id,\n",
    "}\n",
    "\n",
    "#JDBC output\n",
    "#Same as for the input, this requires you to create a DataStore and Credential for your database, but for output_settings you also need to specify statementType, which should be one of datarobot.enums.AVAILABLE_STATEMENT_TYPES:\n",
    "\n",
    "# get to make sure it's exists\n",
    "data_store = dr.DataStore.get(datastore_id)\n",
    "\n",
    "output_settings = {\n",
    "    'type': 'jdbc',\n",
    "    'table': 'table_name',\n",
    "    'schema': 'public',\n",
    "    'statementType': 'insert',\n",
    "    'dataStoreId': data_store.id,\n",
    "    'credentialId': cred.credential_id,\n",
    "}"
   ]
  },
  {
   "cell_type": "code",
   "execution_count": 12,
   "metadata": {},
   "outputs": [
    {
     "data": {
      "text/plain": [
       "'605dad00604841d4c3aa5b3b'"
      ]
     },
     "execution_count": 12,
     "metadata": {},
     "output_type": "execute_result"
    }
   ],
   "source": [
    "dr.DataStore.list()"
   ]
  },
  {
   "cell_type": "code",
   "execution_count": null,
   "metadata": {},
   "outputs": [],
   "source": []
  }
 ],
 "metadata": {
  "kernelspec": {
   "display_name": "Python 3",
   "language": "python",
   "name": "python3"
  },
  "language_info": {
   "codemirror_mode": {
    "name": "ipython",
    "version": 3
   },
   "file_extension": ".py",
   "mimetype": "text/x-python",
   "name": "python",
   "nbconvert_exporter": "python",
   "pygments_lexer": "ipython3",
   "version": "3.8.5"
  }
 },
 "nbformat": 4,
 "nbformat_minor": 4
}
