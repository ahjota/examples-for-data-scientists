{
 "cells": [
  {
   "cell_type": "markdown",
   "metadata": {},
   "source": [
    "## Scoring Big Datasets - Batch Prediction API"
   ]
  },
  {
   "cell_type": "markdown",
   "metadata": {},
   "source": [
    "### Scope\n",
    "\n",
    "The scope of this notebook is to provide instructions on how to use DataRobot's batch prediction script to get predictions out of a DataRobot deployed model\n",
    "\n",
    "### Background\n",
    "\n",
    "The Batch Prediction API provides flexible options for intake and output when scoring large datasets using the prediction servers you have already deployed. The API is exposed through the DataRobot Public API and can be consumed using a REST-enabled client or the DataRobot Python Public API bindings.\n",
    "\n",
    "The main features of the API include:\n",
    "\n",
    "- Flexible options for intake and output.\n",
    "- Support for streaming local files and the ability to start scoring while still uploading—while simultaneously downloading the results.\n",
    "- Ability to score large datasets from, and to, Amazon S3 buckets.\n",
    "- Connection to external data sources using JDBC with bidirectional streaming of scoring data and results.\n",
    "- A mix of intake and output options; for example, scoring from a local file to an S3 target.\n",
    "- Protection against prediction server overload with a concurrency control level option.\n",
    "- Inclusion of Prediction Explanations (with an option to add thresholds).\n",
    "- Support for passthrough columns to correlate scored data with source data.\n",
    "- Addition of prediction warnings in the output.\n",
    "\n",
    "(If you are a DataRobot customer, you can find more information in the in-app documentation for \"Batch Prediction API.\")\n",
    "\n",
    "### Requirements\n",
    "\n",
    "- Python version 3.7.3\n",
    "-  DataRobot API version 2.19.0. \n",
    "\n",
    "Small adjustments might be needed depending on the Python version and DataRobot API version you are using.\n",
    "\n",
    "Full documentation of the Python package can be found here: https://datarobot-public-api-client.readthedocs-hosted.com\n",
    "\n",
    "It is assumed you already have a DataRobot <code>Deployment</code> object."
   ]
  },
  {
   "cell_type": "markdown",
   "metadata": {},
   "source": [
    "#### Scoring a local CSV file\n",
    "\n",
    "For the below script to work, you will have to provide DataRobot with the <code>api_key</code> (of your account), the <code>deployment_id</code>, and the <code>api_endpoint</code> (which should be https://app.datarobot.com/api/v2/batchPredictions/ for NA Managed AI Cloud users and https://app.eu.datarobot.com/api/v2/batchPredictions/ for EU Managed AI Cloud users).\n",
    "\n",
    "Lastly, you need to provide the CSV file that will be used as input.\n",
    "\n",
    "By default, DataRobot will expect a CSV file with this format:\n",
    "\n",
    "- delimiter Default: , (comma).\n",
    "- quotechar: \"\n",
    "- encoding: utf-8"
   ]
  },
  {
   "cell_type": "code",
   "execution_count": null,
   "metadata": {},
   "outputs": [],
   "source": [
    "import datarobot as dr\n",
    "\n",
    "dr.Client(\n",
    "    endpoint=\"YOUR_ENDPOINT\",\n",
    "    token=\"YOUR_TOKEN\",\n",
    ")\n",
    "\n",
    "deployment_id = \"...\"\n",
    "\n",
    "input_file = \"to_predict.csv\"\n",
    "output_file = \"predicted.csv\"\n",
    "\n",
    "job = dr.BatchPredictionJob.score_to_file(\n",
    "    deployment_id,\n",
    "    input_file,\n",
    "    output_file,\n",
    "    passthrough_columns_set=\"all\"\n",
    ")\n",
    "\n",
    "print(\"started scoring...\", job)\n",
    "job.wait_for_completion()"
   ]
  },
  {
   "cell_type": "markdown",
   "metadata": {},
   "source": [
    "#### Requesting Prediction Explanations\n",
    "In order to get Prediction Explanations alongside predictions, you need to change the job configuration."
   ]
  },
  {
   "cell_type": "code",
   "execution_count": null,
   "metadata": {},
   "outputs": [],
   "source": [
    "job = dr.BatchPredictionJob.score_to_file(\n",
    "    deployment_id,\n",
    "    input_file,\n",
    "    output_file,\n",
    "    max_explanations=10,\n",
    "    threshold_high=0.5,\n",
    "    threshold_low=0.15,\n",
    ")"
   ]
  },
  {
   "cell_type": "markdown",
   "metadata": {},
   "source": [
    "#### Custom CSV Format\n",
    "If your CSV file does not match the custom CSV format, you can modify the expected CSV format by setting <code>csvSettings</code>:"
   ]
  },
  {
   "cell_type": "code",
   "execution_count": null,
   "metadata": {},
   "outputs": [],
   "source": [
    "job = dr.BatchPredictionJob.score_to_file(\n",
    "    deployment_id,\n",
    "    input_file,\n",
    "    output_file,\n",
    "    csv_settings={\n",
    "        'delimiter': ';',\n",
    "        'quotechar': '\\'',\n",
    "        'encoding': 'ms_kanji',\n",
    "    },\n",
    ")"
   ]
  },
  {
   "cell_type": "markdown",
   "metadata": {},
   "source": [
    "#### End-to-end scoring of CSV files on S3 using Python requests\n",
    "\n",
    "To score data that sits in an S3 Bucket:"
   ]
  },
  {
   "cell_type": "code",
   "execution_count": null,
   "metadata": {},
   "outputs": [],
   "source": [
    "import datarobot as dr\n",
    "\n",
    "dr.Client(\n",
    "    endpoint=\"YOUR_ENDPOINT\",\n",
    "    token=\"YOUR_TOKEN\",\n",
    ")\n",
    "\n",
    "deployment_id = \"...\"\n",
    "credential_id = \"...\"\n",
    "\n",
    "s3_csv_input_file = 's3://my-bucket/data/to_predict.csv'\n",
    "s3_csv_output_file = 's3://my-bucket/data/predicted.csv'\n",
    "\n",
    "job = dr.BatchPredictionJob.score_s3(\n",
    "    deployment_id,\n",
    "    source_url=s3_csv_input_file,\n",
    "    destination_url=s3_csv_output_file,\n",
    "    credential=credential_id\n",
    ")\n",
    "\n",
    "print(\"started scoring...\", job)\n",
    "job.wait_for_completion()"
   ]
  },
  {
   "cell_type": "markdown",
   "metadata": {},
   "source": [
    "The same functionality is available for `score_azure` and `score_gcp`. You can also specify the credential object itself, instead of a credential ID:"
   ]
  },
  {
   "cell_type": "code",
   "execution_count": null,
   "metadata": {},
   "outputs": [],
   "source": [
    "credentials = dr.Credential.get(credential_id)\n",
    "\n",
    "job = dr.BatchPredictionJob.score_s3(\n",
    "    deployment_id,\n",
    "    source_url=s3_csv_input_file,\n",
    "    destination_url=s3_csv_output_file,\n",
    "    credential=credentials,\n",
    ")"
   ]
  },
  {
   "cell_type": "markdown",
   "metadata": {},
   "source": [
    "#### Prediction Explanations"
   ]
  },
  {
   "cell_type": "markdown",
   "metadata": {},
   "source": [
    "You can include Prediction Explanations by adding the desired Prediction Explanation parameters to the job configuration:"
   ]
  },
  {
   "cell_type": "code",
   "execution_count": null,
   "metadata": {},
   "outputs": [],
   "source": [
    "job = dr.BatchPredictionJob.score_s3(\n",
    "    deployment_id,\n",
    "    source_url=s3_csv_input_file,\n",
    "    destination_url=s3_csv_output_file,\n",
    "    credential=credential_id,\n",
    "    max_explanations=10,\n",
    "    threshold_high=0.5,\n",
    "    threshold_low=0.15,\n",
    ")"
   ]
  },
  {
   "cell_type": "markdown",
   "metadata": {},
   "source": [
    "#### End-to-end scoring from a JDBC PostgreSQL database using Python requests \n",
    "The following reads a scoring dataset from the table `public.scoring_data` and saves the scored data back to `public.scored_data` (assuming that table already exists)."
   ]
  },
  {
   "cell_type": "code",
   "execution_count": null,
   "metadata": {},
   "outputs": [],
   "source": [
    "import datarobot as dr\n",
    "\n",
    "dr.Client(\n",
    "    endpoint=\"YOUR_ENDPOINT\",\n",
    "    token=\"YOUR_TOKEN\",\n",
    ")\n",
    "\n",
    "deployment_id = \"...\"\n",
    "credential_id = \"...\"\n",
    "datastore_id = \"...\"\n",
    "\n",
    "intake_settings = {\n",
    "    'type': 'jdbc',\n",
    "    'table': 'scoring_data',\n",
    "    'schema': 'public',\n",
    "    'data_store_id': datastore_id,\n",
    "    'credential_id': credential_id,\n",
    "}\n",
    "\n",
    "output_settings = {\n",
    "    'type': 'jdbc',\n",
    "    'table': 'scored_data',\n",
    "    'schema': 'public',\n",
    "    'data_store_id': datastore_id,\n",
    "    'credential_id': credential_id,\n",
    "    'statement_type': 'insert'\n",
    "}\n",
    "\n",
    "job = dr.BatchPredictionJob.score(\n",
    "    deployment_id,\n",
    "    intake_settings=intake_settings,\n",
    "    output_settings=output_settings,\n",
    ")\n",
    "\n",
    "print(\"started scoring...\", job)\n",
    "job.wait_for_completion()"
   ]
  },
  {
   "cell_type": "markdown",
   "metadata": {},
   "source": [
    "#### AI Catalog to CSV File Scoring\n",
    "When using the AI Catalog for intake, you need the `dataset_id` of an already created dataset."
   ]
  },
  {
   "cell_type": "code",
   "execution_count": null,
   "metadata": {},
   "outputs": [],
   "source": [
    "import datarobot as dr\n",
    "\n",
    "dr.Client(\n",
    "    endpoint=\"YOUR_ENDPOINT\",\n",
    "    token=\"YOUR_TOKEN\",\n",
    ")\n",
    "\n",
    "deployment_id = \"...\"\n",
    "credential_id = \"...\"\n",
    "dataset_id = \"...\"\n",
    "\n",
    "dataset = dr.Dataset.get(dataset_id)\n",
    "\n",
    "job = dr.BatchPredictionJob.score(\n",
    "    deployment_id,\n",
    "    intake_settings={\n",
    "        'type': 'dataset',\n",
    "        'dataset_id': dataset,\n",
    "    },\n",
    "    output_settings={\n",
    "        'type': 'localFile',\n",
    "    },\n",
    ")\n",
    "\n",
    "job.wait_for_completion()"
   ]
  }
 ],
 "metadata": {
  "kernelspec": {
   "display_name": "Python 3",
   "language": "python",
   "name": "python3"
  },
  "language_info": {
   "codemirror_mode": {
    "name": "ipython",
    "version": 3
   },
   "file_extension": ".py",
   "mimetype": "text/x-python",
   "name": "python",
   "nbconvert_exporter": "python",
   "pygments_lexer": "ipython3",
   "version": "3.7.3"
  }
 },
 "nbformat": 4,
 "nbformat_minor": 4
}
