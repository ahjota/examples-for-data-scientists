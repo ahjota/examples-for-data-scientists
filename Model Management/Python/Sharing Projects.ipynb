{
 "cells": [
  {
   "cell_type": "markdown",
   "metadata": {},
   "source": [
    "## Sharing Projects\n",
    "\n",
    "**Author**: Peter Simon\n",
    "\n",
    "### Scope\n",
    "\n",
    "The scope of this notebook is to provide instructions on how to share projects with colleagues through the Python API.\n",
    "\n",
    "### Requirements\n",
    "\n",
    "- Python version 3.7.3\n",
    "-  DataRobot API version 2.19.0. \n",
    "Small adjustments might be needed depending on the Python version and DataRobot API version you are using.\n",
    "\n",
    "Full documentation of the Python package can be found here: https://datarobot-public-api-client.readthedocs-hosted.com\n",
    "\n",
    "It is assumed you already have a DataRobot <code>Project</code> object."
   ]
  },
  {
   "cell_type": "markdown",
   "metadata": {},
   "source": [
    "#### Import libraries"
   ]
  },
  {
   "cell_type": "code",
   "execution_count": 13,
   "metadata": {},
   "outputs": [],
   "source": [
    "import datarobot as dr"
   ]
  },
  {
   "cell_type": "markdown",
   "metadata": {},
   "source": [
    "#### Define people to share projects with"
   ]
  },
  {
   "cell_type": "code",
   "execution_count": 25,
   "metadata": {},
   "outputs": [],
   "source": [
    "# who to share the project(s). Make sure the emails are valid.\n",
    "share_targets = ['name.surname@datarobot.com', 'name.surname_2@datarobot.com']"
   ]
  },
  {
   "cell_type": "markdown",
   "metadata": {},
   "source": [
    "#### Share project\n",
    "You can share the project using the <code>datarobot.SharingAccess></code> command. There are multiple sharing roles:\n",
    "\n",
    "- <code> dr.enums.SHARING_ROLE.CONSUMER</code>\n",
    "- <code> dr.enums.SHARING_ROLE.OWNER</code>\n",
    "- <code> dr.enums.SHARING_ROLE.USER</code>\n",
    "\n",
    "so pick one according to your needs."
   ]
  },
  {
   "cell_type": "code",
   "execution_count": 24,
   "metadata": {},
   "outputs": [],
   "source": [
    "try:\n",
    "    for u in share_targets:\n",
    "        new_access = dr.SharingAccess(username=u, role=dr.enums.SHARING_ROLE.OWNER) #Multiple sharing roles exist\n",
    "        project.share([new_access])\n",
    "\n",
    "except dr.errors.ClientError as e:\n",
    "    print('skipped')"
   ]
  }
 ],
 "metadata": {
  "kernelspec": {
   "display_name": "Python 3",
   "language": "python",
   "name": "python3"
  },
  "language_info": {
   "codemirror_mode": {
    "name": "ipython",
    "version": 3
   },
   "file_extension": ".py",
   "mimetype": "text/x-python",
   "name": "python",
   "nbconvert_exporter": "python",
   "pygments_lexer": "ipython3",
   "version": "3.7.3"
  }
 },
 "nbformat": 4,
 "nbformat_minor": 2
}
